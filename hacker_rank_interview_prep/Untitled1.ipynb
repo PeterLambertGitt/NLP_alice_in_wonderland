{
 "cells": [
  {
   "cell_type": "code",
   "execution_count": 29,
   "id": "6f5b7461",
   "metadata": {},
   "outputs": [],
   "source": [
    "import math\n",
    "import os\n",
    "import random\n",
    "import re\n",
    "import sys\n",
    "import numpy as np"
   ]
  },
  {
   "cell_type": "code",
   "execution_count": 30,
   "id": "01aa1ceb",
   "metadata": {},
   "outputs": [],
   "source": [
    "# 3 steps it seems:\n",
    "# 0: bombs 0 are planted randomly\n",
    "# 1: nothing\n",
    "# 2: all other bombs 1 are planted\n",
    "# 3: bombs 0 destroy some bombs 1 and themselves\n",
    "# 4: bombs 2 are planted in the gaps\n",
    "# 5: bombs 1 destroy some bombs 2 and themselves\n",
    "# 6: bombs 3 are planted in the gaps\n",
    "# 7: etc..."
   ]
  },
  {
   "cell_type": "code",
   "execution_count": 57,
   "id": "959b9834",
   "metadata": {},
   "outputs": [],
   "source": [
    "grid =['.......', '...O...', '....O..', '.......', 'OO.....', 'OO.....']\n",
    "grid2 =['.......', '.......', '.......', '.......', '.......', '......O']\n",
    "grid3 = ['...','...','..O']"
   ]
  },
  {
   "cell_type": "code",
   "execution_count": 58,
   "id": "0c7d7900",
   "metadata": {},
   "outputs": [
    {
     "data": {
      "text/plain": [
       "['...', '...', '..O']"
      ]
     },
     "execution_count": 58,
     "metadata": {},
     "output_type": "execute_result"
    }
   ],
   "source": [
    "grid3"
   ]
  },
  {
   "cell_type": "code",
   "execution_count": 59,
   "id": "2ea9e2f5",
   "metadata": {},
   "outputs": [
    {
     "data": {
      "text/plain": [
       "['OOO', 'OOO', 'OOO']"
      ]
     },
     "execution_count": 59,
     "metadata": {},
     "output_type": "execute_result"
    }
   ],
   "source": [
    "['...', \n",
    " '...', \n",
    " '..O']\n",
    "\n",
    "['OOO', \n",
    " 'OOO', \n",
    " 'OOO']\n",
    "\n",
    "['OOO', \n",
    " 'OO.', \n",
    " 'O..']\n",
    "\n",
    "['OOO', \n",
    " 'OOO', \n",
    " 'OOO']\n",
    "\n",
    "['...', \n",
    " '...', \n",
    " '..O']\n",
    "\n"
   ]
  },
  {
   "cell_type": "code",
   "execution_count": null,
   "id": "e13fd86b",
   "metadata": {},
   "outputs": [],
   "source": [
    "['...', \n",
    " 'O..', \n",
    " '..O']\n",
    "\n",
    "['OOO', \n",
    " 'OOO', \n",
    " 'OOO']\n",
    "\n",
    "['.OO', \n",
    " '...', \n",
    " '...']\n",
    "\n",
    "['OOO', \n",
    " 'OOO', \n",
    " 'OOO']\n",
    "\n",
    "['...', \n",
    " 'O..', \n",
    " 'OOO']\n",
    "\n",
    "['OOO', \n",
    " 'OOO', \n",
    " 'OOO']\n",
    "\n",
    "['.OO', \n",
    " '...', \n",
    " '...']\n",
    "\n",
    "['OOO', \n",
    " 'OOO', \n",
    " 'OOO']\n",
    "\n",
    "['...', \n",
    " 'O..', \n",
    " 'OOO']\n",
    "\n",
    "['OOO', \n",
    " 'OOO', \n",
    " 'OOO']\n",
    "\n",
    "['.OO', \n",
    " '...', \n",
    " '...']\n",
    "\n",
    "\n"
   ]
  },
  {
   "cell_type": "code",
   "execution_count": 52,
   "id": "07806a61",
   "metadata": {},
   "outputs": [],
   "source": [
    "def bomberMan(n, grid):\n",
    "    \n",
    "    # starting by turning strings into lists ot avoid immutability \n",
    "    start = []\n",
    "    for i in grid:\n",
    "        start.append([element for element in i])\n",
    "        \n",
    "    # registering the initial positions of the bombs in co-ordinate pairs [a,b]\n",
    "    bombs_pos = []\n",
    "    for index_1, row in enumerate(grid):\n",
    "        for index_2, item in enumerate(row):\n",
    "            if item == 'O':\n",
    "                bombs_pos.append([index_1, index_2])\n",
    "                \n",
    "    # logging width and height of grid\n",
    "    width = len(grid[0])\n",
    "    height = len(grid)\n",
    "    \n",
    "    while i < n:\n",
    "        i += 1\n",
    "    # beginning to break down the returned grid w.r.t n \n",
    "    if n < 2: \n",
    "        return grid\n",
    "        \n",
    "    # returning full grid half the time\n",
    "    elif n % 2 == 0:\n",
    "        full = ['O'*width]\n",
    "        grid = full*height\n",
    "        return grid\n",
    "\n",
    "    # considering n odd. After bombs being placed, then exploding the only remaining squares without bombs are: \n",
    "    # original bomb squares and adjacent. Therefore we need to loop through some possilbe states:\n",
    "    # state 1 \n",
    "    \n",
    "    blank_pos = []\n",
    "    blank_pos.append(bombs_pos)\n",
    "    for pos in bombs_pos:\n",
    "        row = pos[0]\n",
    "        col = pos[1]\n",
    "        if row < height -1:\n",
    "            blank_pos.append([row+1, col])\n",
    "        if row > 0:\n",
    "            blank_pos.append([row-1, col])\n",
    "        if col < width -1:\n",
    "            blank_pos.append([row, col+1])\n",
    "        if col > 0:\n",
    "            blank_pos.append([row, col-1])\n",
    "    print(blank_pos)\n",
    "    \n",
    "    \n",
    "    # need to develop a way of turning the co-ordinate pairs back to the return format\n",
    "    \n",
    "    return\n",
    "\n",
    "\n"
   ]
  },
  {
   "cell_type": "code",
   "execution_count": 27,
   "id": "5e196f5c",
   "metadata": {},
   "outputs": [
    {
     "data": {
      "text/plain": [
       "['.......', '.......', '.......', '.......', '.......', '......O']"
      ]
     },
     "execution_count": 27,
     "metadata": {},
     "output_type": "execute_result"
    }
   ],
   "source": [
    "bomberMan(1, grid2)"
   ]
  },
  {
   "cell_type": "code",
   "execution_count": 28,
   "id": "134d4784",
   "metadata": {},
   "outputs": [
    {
     "data": {
      "text/plain": [
       "'.'"
      ]
     },
     "execution_count": 28,
     "metadata": {},
     "output_type": "execute_result"
    }
   ],
   "source": [
    "grid[5][5]"
   ]
  },
  {
   "cell_type": "code",
   "execution_count": 47,
   "id": "b3222aa5",
   "metadata": {},
   "outputs": [],
   "source": [
    "#step 1 - random bombs planted (equal to the inital positions of 0's)\n",
    "# we need to remember where these 0's are, and mark any squares adjacent to them\n",
    "bombs_pos = []\n",
    "for index_1, row in enumerate(grid):\n",
    "    for index_2, item in enumerate(row):\n",
    "        if item == 'O':\n",
    "            bombs_pos.append([index_1, index_2])\n"
   ]
  },
  {
   "cell_type": "code",
   "execution_count": null,
   "id": "b5103482",
   "metadata": {},
   "outputs": [],
   "source": [
    "# change to binary and just add one when things happen?"
   ]
  },
  {
   "cell_type": "code",
   "execution_count": 21,
   "id": "70ade317",
   "metadata": {},
   "outputs": [],
   "source": [
    "\n",
    "print (blank_pos)\n",
    "# change all of the blank pos into blanks and "
   ]
  },
  {
   "cell_type": "code",
   "execution_count": 42,
   "id": "43e78704",
   "metadata": {},
   "outputs": [],
   "source": [
    "a = [1,2]"
   ]
  },
  {
   "cell_type": "code",
   "execution_count": 40,
   "id": "9a267f34",
   "metadata": {},
   "outputs": [],
   "source": [
    "b = a = 2"
   ]
  },
  {
   "cell_type": "code",
   "execution_count": 41,
   "id": "c1670b81",
   "metadata": {},
   "outputs": [
    {
     "data": {
      "text/plain": [
       "[2, 2]"
      ]
     },
     "execution_count": 41,
     "metadata": {},
     "output_type": "execute_result"
    }
   ],
   "source": []
  },
  {
   "cell_type": "code",
   "execution_count": 24,
   "id": "5d8ef118",
   "metadata": {},
   "outputs": [
    {
     "data": {
      "text/plain": [
       "2"
      ]
     },
     "execution_count": 24,
     "metadata": {},
     "output_type": "execute_result"
    }
   ],
   "source": [
    "# we want a mapping that "
   ]
  }
 ],
 "metadata": {
  "kernelspec": {
   "display_name": "Python 3 (ipykernel)",
   "language": "python",
   "name": "python3"
  },
  "language_info": {
   "codemirror_mode": {
    "name": "ipython",
    "version": 3
   },
   "file_extension": ".py",
   "mimetype": "text/x-python",
   "name": "python",
   "nbconvert_exporter": "python",
   "pygments_lexer": "ipython3",
   "version": "3.10.6"
  },
  "toc": {
   "base_numbering": 1,
   "nav_menu": {},
   "number_sections": true,
   "sideBar": true,
   "skip_h1_title": false,
   "title_cell": "Table of Contents",
   "title_sidebar": "Contents",
   "toc_cell": false,
   "toc_position": {},
   "toc_section_display": true,
   "toc_window_display": false
  }
 },
 "nbformat": 4,
 "nbformat_minor": 5
}
